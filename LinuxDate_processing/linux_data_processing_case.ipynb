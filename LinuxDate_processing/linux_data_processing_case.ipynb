{
 "cells": [
  {
   "cell_type": "code",
   "execution_count": 1,
   "metadata": {},
   "outputs": [
    {
     "name": "stdout",
     "output_type": "stream",
     "text": [
      "Host key fingerprint is SHA256:Wrtw9P20Y4zfLEAwzSw1ULHTI2lxBDfZC1aQiV7yRw8\n",
      "+--[ED25519 256]--+\n",
      "|          .BO=X+ |\n",
      "|          +o+#Eo.|\n",
      "|          .+@ =.o|\n",
      "|           o.+ +.|\n",
      "|        S  .  .  |\n",
      "|       + o ..    |\n",
      "|      o o . .+.  |\n",
      "|       o .  .o=+ |\n",
      "|        .    o+oo|\n",
      "+----[SHA256]-----+\n"
     ]
    }
   ],
   "source": [
    "import os\n",
    "from subprocess import getoutput\n",
    "print(getoutput('ssh TencentServer5M \"lastb -w\">> ~/mingyueguan_project/IPAddress_processing/lastb.log'))\n",
    "log_path= os.path.expanduser(\"~/mingyueguan_project/IPAddress_processing/lastb.log\")"
   ]
  },
  {
   "cell_type": "code",
   "execution_count": 2,
   "metadata": {},
   "outputs": [
    {
     "data": {
      "text/plain": [
       "{0, 7, 9, 10}"
      ]
     },
     "execution_count": 2,
     "metadata": {},
     "output_type": "execute_result"
    }
   ],
   "source": [
    "load_file = open(log_path,'r').readlines()\n",
    "{len(line.split()) for line in load_file}"
   ]
  },
  {
   "cell_type": "code",
   "execution_count": 13,
   "metadata": {},
   "outputs": [
    {
     "data": {
      "text/plain": [
       "str"
      ]
     },
     "execution_count": 13,
     "metadata": {},
     "output_type": "execute_result"
    }
   ],
   "source": [
    "cmd = getoutput('ssh TencentServer5M \"lastb -w\"')#.splitlines()\n",
    "#print(cmd[12:])\n",
    "type(cmd)"
   ]
  },
  {
   "cell_type": "code",
   "execution_count": 4,
   "metadata": {},
   "outputs": [],
   "source": [
    "import pandas as pd\n",
    "import os\n",
    "from sys import path\n",
    "\n",
    "\n",
    "def transfrom_week(week):\n",
    "    week_dict = {'Sun': '0',\n",
    "            'Mon': '1',\n",
    "            'Tue': '2',\n",
    "            'Wed': '3',\n",
    "            'Thu': '4',\n",
    "            'Fri': '5',\n",
    "            'Sat': '6'}\n",
    "    if week in week_dict:\n",
    "        return week_dict[week]\n",
    "    else:\n",
    "        return None\n",
    "def tranfrom_month(month):\n",
    "    month_dict = {'Jan': '01',\n",
    "            'Feb': '02',\n",
    "            'Mar': '03',\n",
    "            'Apr': '04',\n",
    "            'May': '05',\n",
    "            'Jun': '06',\n",
    "            'Jul': '07',\n",
    "            'Aug': '08',\n",
    "            'Sep': '09',\n",
    "            'Oct': '10',\n",
    "            'Nov': '11',\n",
    "            'Dec': '12'}\n",
    "    if month in month_dict:\n",
    "        return month_dict[month]\n",
    "    else:\n",
    "        return None\n",
    "\n",
    "result_dict = {\n",
    "        \"用户名\":[]\n",
    "        ,\"使用的登陆方式\":[]\n",
    "        ,\"IP\":[]\n",
    "        ,\"星期\":[]\n",
    "        ,\"月份\":[]\n",
    "        ,\"日期\":[]\n",
    "        ,\"尝试登陆时间\":[]\n",
    "        ,\"终止登陆时间\":[]\n",
    "        ,\"持续时间\":[]\n",
    "    }\n",
    "\n",
    "\n",
    "for line in load_file:\n",
    "    \n",
    "    token_line = line.split()\n",
    "    if len(token_line) == 0:\n",
    "        # print(0,token_line)\n",
    "        pass\n",
    "    elif len(token_line)==7:\n",
    "        # print(7,token_line)\n",
    "        pass\n",
    "    elif len(token_line) == 9:\n",
    "        #print(9,token_line)\n",
    "        token_line.insert(0,None)\n",
    "        uesr = token_line[0]\n",
    "        login_type = token_line[1]\n",
    "        ip = token_line[2]\n",
    "        week = token_line[3]\n",
    "        month = token_line[4]\n",
    "        day = token_line[5]\n",
    "        start_time = token_line[6]\n",
    "        end_time = token_line[8]\n",
    "        keep_time = token_line[9]\n",
    "        pass\n",
    "    elif len(token_line)==10:\n",
    "        #print(token_line[0])\n",
    "        \n",
    "        #print(token_line[0])\n",
    "        uesr = token_line[0]\n",
    "        login_type = token_line[1]\n",
    "        ip = token_line[2]\n",
    "        week = token_line[3]\n",
    "        month = token_line[4]\n",
    "        day = token_line[5]\n",
    "        start_time = token_line[6]\n",
    "        end_time = token_line[8]\n",
    "        keep_time = token_line[9]\n",
    "    else:\n",
    "        pass\n",
    "        #print(uesr,login_type,ip,week,month,day,start_time,end_time,keep_time)\n",
    "    result_dict[\"用户名\"].append(uesr)\n",
    "    result_dict[\"使用的登陆方式\"].append(login_type)\n",
    "    result_dict[\"IP\"].append(ip)\n",
    "    result_dict[\"星期\"].append(transfrom_week(week))\n",
    "    result_dict[\"月份\"].append(tranfrom_month(month))\n",
    "    result_dict[\"日期\"].append(day)\n",
    "    result_dict[\"尝试登陆时间\"].append(start_time)\n",
    "    result_dict[\"终止登陆时间\"].append(end_time)\n",
    "    result_dict[\"持续时间\"].append(keep_time)\n",
    "\n",
    "    \n",
    "lastb_table = pd.DataFrame(result_dict)\n",
    "lastb_table.to_csv(\"lastb_table.csv\")"
   ]
  },
  {
   "cell_type": "code",
   "execution_count": 5,
   "metadata": {},
   "outputs": [
    {
     "data": {
      "text/plain": [
       "({'0', '1', '2', '3', '4', '5', '6'}, {'06'})"
      ]
     },
     "execution_count": 5,
     "metadata": {},
     "output_type": "execute_result"
    }
   ],
   "source": [
    "set(lastb_table.星期),set(lastb_table.月份)"
   ]
  }
 ],
 "metadata": {
  "kernelspec": {
   "display_name": "Python 3.10.4 64-bit",
   "language": "python",
   "name": "python3"
  },
  "language_info": {
   "codemirror_mode": {
    "name": "ipython",
    "version": 3
   },
   "file_extension": ".py",
   "mimetype": "text/x-python",
   "name": "python",
   "nbconvert_exporter": "python",
   "pygments_lexer": "ipython3",
   "version": "3.10.4"
  },
  "orig_nbformat": 4,
  "vscode": {
   "interpreter": {
    "hash": "e7370f93d1d0cde622a1f8e1c04877d8463912d04d973331ad4851f04de6915a"
   }
  }
 },
 "nbformat": 4,
 "nbformat_minor": 2
}
