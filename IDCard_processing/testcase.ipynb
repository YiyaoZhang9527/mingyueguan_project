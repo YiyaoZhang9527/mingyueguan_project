{
 "cells": [
  {
   "cell_type": "code",
   "execution_count": 20,
   "metadata": {},
   "outputs": [
    {
     "data": {
      "text/plain": [
       "'34040319870521001'"
      ]
     },
     "execution_count": 20,
     "metadata": {},
     "output_type": "execute_result"
    }
   ],
   "source": [
    "coefficient = [7,9,10,5,8,4,2,1,6,3,7,9,10,5,8,4,2]\n",
    "remainder  = {0: 1,\n",
    "            1: 0,\n",
    "            2: \"x\",\n",
    "            3: 9,\n",
    "            4: 8,\n",
    "            5: 7,\n",
    "            6: 6,\n",
    "            7: 5,\n",
    "            8: 4,\n",
    "            9: 3,\n",
    "            10: 2}\n",
    "\n",
    "case = \"340403198705210012\"#\"34040419950927022X\"\n",
    "case[:-1]"
   ]
  },
  {
   "cell_type": "code",
   "execution_count": 21,
   "metadata": {},
   "outputs": [
    {
     "name": "stdout",
     "output_type": "stream",
     "text": [
      "2\n"
     ]
    },
    {
     "data": {
      "text/plain": [
       "True"
      ]
     },
     "execution_count": 21,
     "metadata": {},
     "output_type": "execute_result"
    }
   ],
   "source": [
    "def varify_check_code(IDCard):\n",
    "    coefficient = [7,9,10,5,8,4,2,1,6,3,7,9,10,5,8,4,2]\n",
    "    remainder  = {0: 1,\n",
    "                1: 0,\n",
    "                2: \"x\",\n",
    "                3: 9,\n",
    "                4: 8,\n",
    "                5: 7,\n",
    "                6: 6,\n",
    "                7: 5,\n",
    "                8: 4,\n",
    "                9: 3,\n",
    "                10: 2}\n",
    "    sum_ = 0\n",
    "    end_char = IDCard[-1].lower()\n",
    "    for i in range(17):\n",
    "        char = IDCard[i]\n",
    "        if char not in '0123456789':\n",
    "            return False\n",
    "        sum_ += int(char)*coefficient[i]\n",
    "    quotient = sum_ % 11\n",
    "    lab = remainder[quotient]\n",
    "    print(lab)\n",
    "    if str(lab) == end_char:\n",
    "        return True\n",
    "    else:\n",
    "        return False\n",
    "\n",
    "\n",
    "\n",
    "\n",
    "varify_check_code(case)"
   ]
  }
 ],
 "metadata": {
  "interpreter": {
   "hash": "96f436a406a5f2700913a78b9cee4ebfeaf93d0631f6d9e4a782fff9b4ed3aea"
  },
  "kernelspec": {
   "display_name": "Python 3.8.5 ('base')",
   "language": "python",
   "name": "python3"
  },
  "language_info": {
   "codemirror_mode": {
    "name": "ipython",
    "version": 3
   },
   "file_extension": ".py",
   "mimetype": "text/x-python",
   "name": "python",
   "nbconvert_exporter": "python",
   "pygments_lexer": "ipython3",
   "version": "3.8.5"
  },
  "orig_nbformat": 4,
  "vscode": {
   "interpreter": {
    "hash": "5c594c896c1339ff2855dc69b57e0b9665479bb02c9832925d6e5e5b2c1bded5"
   }
  }
 },
 "nbformat": 4,
 "nbformat_minor": 2
}
